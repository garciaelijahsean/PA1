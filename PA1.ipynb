{
 "cells": [
  {
   "cell_type": "markdown",
   "id": "1b32b274-d014-4ec7-8c1e-0dd81ce5f347",
   "metadata": {},
   "source": [
    "ALPHABET SOUP PROBLEM:"
   ]
  },
  {
   "cell_type": "code",
   "execution_count": 1,
   "id": "1e4d3dee-b8ea-4a6d-a5ee-63178a002a83",
   "metadata": {},
   "outputs": [
    {
     "name": "stdout",
     "output_type": "stream",
     "text": [
      "ehllo\n",
      "Agin\n",
      "abdekory\n",
      "ejprtuy\n"
     ]
    }
   ],
   "source": [
    "def alphabet_soup(string):\n",
    "    return \"\".join(sorted(string))\n",
    "\n",
    "print(alphabet_soup(\"hello\"))\n",
    "print(alphabet_soup(\"Aing\"))\n",
    "print(alphabet_soup(\"keyboard\"))\n",
    "print(alphabet_soup(\"jupyter\"))"
   ]
  },
  {
   "cell_type": "raw",
   "id": "83f80f96-8414-4d21-8634-1cf9b77a3280",
   "metadata": {},
   "source": [
    "EMOTICON PROBLEM:"
   ]
  },
  {
   "cell_type": "code",
   "execution_count": 21,
   "id": "33913b16-5783-486f-9de4-45aa456400e7",
   "metadata": {},
   "outputs": [
    {
     "name": "stdout",
     "output_type": "stream",
     "text": [
      "Make me :)\n",
      "You made me :D\n",
      "Why are you :((?\n",
      "I am >:(\n"
     ]
    }
   ],
   "source": [
    "def emotify(sentence):\n",
    "    if \"smile\" in sentence:\n",
    "        return sentence.replace(\"smile\", \":)\")\n",
    "    elif \"grin\" in sentence:\n",
    "        return sentence.replace(\"grin\", \":D\")\n",
    "    elif \"sad\" in sentence:\n",
    "        return sentence.replace(\"sad\", \":((\")\n",
    "    elif \"angry\" in sentence:\n",
    "        return sentence.replace(\"angry\", \">:(\")\n",
    "    else:\n",
    "        return sentence\n",
    "    \n",
    "print(emotify(\"Make me smile\"))\n",
    "print(emotify(\"You made me grin\"))\n",
    "print(emotify(\"Why are you sad?\"))\n",
    "print(emotify(\"I am angry\"))"
   ]
  },
  {
   "cell_type": "markdown",
   "id": "d3e0090c-437c-4806-827c-0f0356f05336",
   "metadata": {},
   "source": [
    "UNPACKING LIST PROBLEM:"
   ]
  },
  {
   "cell_type": "code",
   "execution_count": 45,
   "id": "ab4811ed-638d-428f-9080-a9bc5996067d",
   "metadata": {},
   "outputs": [
    {
     "name": "stdout",
     "output_type": "stream",
     "text": [
      "First:  [1]\n",
      "Middle: [2, 3, 4, 5, 6, 8, 9]\n",
      "Last:  [10]\n",
      "\n",
      "First:  ['one']\n",
      "Middle: ['two', 'three', 'four']\n",
      "Last:  ['five']\n",
      "\n"
     ]
    }
   ],
   "source": [
    "def my_List(something):\n",
    "\n",
    "    first = something[:1]\n",
    "    middle = something[1:-1]\n",
    "    last = something[-1:]\n",
    "    \n",
    "    print(\"First: \", first)\n",
    "    print(\"Middle:\", middle)\n",
    "    print(\"Last: \", last)\n",
    "    print(\"\")\n",
    "\n",
    "my_List([1, 2, 3, 4, 5, 6, 8, 9, 10])\n",
    "my_List([\"one\", \"two\", \"three\", \"four\", \"five\",])"
   ]
  },
  {
   "cell_type": "code",
   "execution_count": null,
   "id": "9eb18baf-9480-417c-bf99-bc21d8b038e7",
   "metadata": {},
   "outputs": [],
   "source": []
  }
 ],
 "metadata": {
  "kernelspec": {
   "display_name": "Python [conda env:base] *",
   "language": "python",
   "name": "conda-base-py"
  },
  "language_info": {
   "codemirror_mode": {
    "name": "ipython",
    "version": 3
   },
   "file_extension": ".py",
   "mimetype": "text/x-python",
   "name": "python",
   "nbconvert_exporter": "python",
   "pygments_lexer": "ipython3",
   "version": "3.13.5"
  }
 },
 "nbformat": 4,
 "nbformat_minor": 5
}
